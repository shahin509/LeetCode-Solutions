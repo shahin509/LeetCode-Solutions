{
 "cells": [
  {
   "cell_type": "code",
   "execution_count": null,
   "id": "f0060663",
   "metadata": {},
   "outputs": [],
   "source": [
    "# Definition for singly-linked list.\n",
    "class ListNode(object):\n",
    "    def __init__(self, val=0, next=None):\n",
    "        self.val = val\n",
    "        self.next = next\n",
    "\n",
    "class Solution(object):\n",
    "    def addTwoNumbers(self, l1, l2):\n",
    "        \"\"\"\n",
    "        :type l1: ListNode\n",
    "        :type l2: ListNode\n",
    "        :rtype: ListNode\n",
    "        \"\"\"\n",
    "        dummy_head = ListNode(0)  # Dummy node to hold the result linked list\n",
    "        current = dummy_head  # Pointer to build the result list\n",
    "        carry = 0  # Initialize carry to 0\n",
    "        \n",
    "        # Loop through both lists until the end\n",
    "        while l1 or l2:\n",
    "            val1 = l1.val if l1 else 0  # Value from l1, 0 if l1 is None\n",
    "            val2 = l2.val if l2 else 0  # Value from l2, 0 if l2 is None\n",
    "            total = val1 + val2 + carry  # Sum the values with carry\n",
    "            \n",
    "            carry = total // 10  # Update the carry for the next iteration\n",
    "            current.next = ListNode(total % 10)  # Create a new node for the current digit\n",
    "            \n",
    "            current = current.next  # Move to the next node in the result list\n",
    "            \n",
    "            # Move to the next nodes in l1 and l2 if available\n",
    "            if l1:\n",
    "                l1 = l1.next\n",
    "            if l2:\n",
    "                l2 = l2.next\n",
    "        \n",
    "        # If there's still a carry left after the loop, add a new node with carry value\n",
    "        if carry > 0:\n",
    "            current.next = ListNode(carry)\n",
    "        \n",
    "        return dummy_head.next  # Return the next of dummy node as the head of the result list"
   ]
  }
 ],
 "metadata": {
  "kernelspec": {
   "display_name": "Python 3 (ipykernel)",
   "language": "python",
   "name": "python3"
  },
  "language_info": {
   "codemirror_mode": {
    "name": "ipython",
    "version": 3
   },
   "file_extension": ".py",
   "mimetype": "text/x-python",
   "name": "python",
   "nbconvert_exporter": "python",
   "pygments_lexer": "ipython3",
   "version": "3.9.13"
  }
 },
 "nbformat": 4,
 "nbformat_minor": 5
}
