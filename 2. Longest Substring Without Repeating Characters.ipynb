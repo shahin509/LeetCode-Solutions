{
 "cells": [
  {
   "cell_type": "code",
   "execution_count": 2,
   "id": "990ea055",
   "metadata": {},
   "outputs": [],
   "source": [
    "class Solution(object):\n",
    "    def lengthOfLongestSubstring(self, s):\n",
    "        \"\"\"\n",
    "        :type s: str\n",
    "        :rtype: int\n",
    "        \"\"\"\n",
    "        char_index = {}  # Dictionary to store the last seen index of each character\n",
    "        max_length = 0  # To store the maximum length of the substring\n",
    "        start = 0  # Start index of the current window\n",
    "        \n",
    "        for i, char in enumerate(s):\n",
    "            # If the character is found in the dictionary and is within the current window\n",
    "            if char in char_index and char_index[char] >= start:\n",
    "                start = char_index[char] + 1  # Move the start pointer right after the last occurrence\n",
    "            \n",
    "            char_index[char] = i  # Update the last seen index of the character\n",
    "            max_length = max(max_length, i - start + 1)  # Update the max length\n",
    "        \n",
    "        return max_length\n"
   ]
  }
 ],
 "metadata": {
  "kernelspec": {
   "display_name": "Python 3 (ipykernel)",
   "language": "python",
   "name": "python3"
  },
  "language_info": {
   "codemirror_mode": {
    "name": "ipython",
    "version": 3
   },
   "file_extension": ".py",
   "mimetype": "text/x-python",
   "name": "python",
   "nbconvert_exporter": "python",
   "pygments_lexer": "ipython3",
   "version": "3.9.13"
  }
 },
 "nbformat": 4,
 "nbformat_minor": 5
}
