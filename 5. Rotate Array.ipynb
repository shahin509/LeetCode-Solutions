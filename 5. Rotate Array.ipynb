{
 "cells": [
  {
   "cell_type": "code",
   "execution_count": null,
   "id": "d9310939",
   "metadata": {},
   "outputs": [],
   "source": [
    "class Solution(object):\n",
    "    def rotate(self, nums, k):\n",
    "     \n",
    "        n = len(nums)\n",
    "        k = k % n  # In case k is greater than n\n",
    "        \n",
    "        # Helper function to reverse a portion of the array\n",
    "        def reverse(start, end):\n",
    "            while start < end:\n",
    "                nums[start], nums[end] = nums[end], nums[start]\n",
    "                start += 1\n",
    "                end -= 1\n",
    "        \n",
    "        # Reverse the entire list\n",
    "        reverse(0, n - 1)\n",
    "        # Reverse the first k elements\n",
    "        reverse(0, k - 1)\n",
    "        # Reverse the remaining n - k elements\n",
    "        reverse(k, n - 1)\n",
    "\n",
    "# Example usage:\n",
    "solution = Solution()\n",
    "nums = [1, 2, 3, 4, 5, 6, 7]\n",
    "k = 3\n",
    "solution.rotate(nums, k)\n",
    "print(nums)  # Output should be [5, 6, 7, 1, 2, 3, 4]"
   ]
  }
 ],
 "metadata": {
  "kernelspec": {
   "display_name": "Python 3 (ipykernel)",
   "language": "python",
   "name": "python3"
  },
  "language_info": {
   "codemirror_mode": {
    "name": "ipython",
    "version": 3
   },
   "file_extension": ".py",
   "mimetype": "text/x-python",
   "name": "python",
   "nbconvert_exporter": "python",
   "pygments_lexer": "ipython3",
   "version": "3.9.13"
  }
 },
 "nbformat": 4,
 "nbformat_minor": 5
}
