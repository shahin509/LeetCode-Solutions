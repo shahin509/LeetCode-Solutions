{
 "cells": [
  {
   "cell_type": "code",
   "execution_count": 1,
   "id": "4baca740",
   "metadata": {},
   "outputs": [],
   "source": [
    "class Solution(object):\n",
    "    def smallestChair(self, times, targetFriend):\n",
    "        \"\"\"\n",
    "        :type times: List[List[int]]\n",
    "        :type targetFriend: int\n",
    "        :rtype: int\n",
    "        \"\"\"\n",
    "\n",
    "        import heapq\n",
    "\n",
    "        n = len(times)\n",
    "        \n",
    "        # Create a list of events (time, event_type, friend_index)\n",
    "        events = []\n",
    "        for i in range(n):\n",
    "            arrival, leaving = times[i]\n",
    "            events.append((arrival, 'arrive', i))  # Friend i arrives at 'arrival' time\n",
    "            events.append((leaving, 'leave', i))   # Friend i leaves at 'leaving' time\n",
    "        \n",
    "        # Sort events by time\n",
    "        events.sort()\n",
    "\n",
    "        # Min-heap to store available chairs\n",
    "        available_chairs = []\n",
    "        for i in range(n):\n",
    "            heapq.heappush(available_chairs, i)\n",
    "        \n",
    "        # Dictionary to store which chair each friend is sitting on\n",
    "        friend_to_chair = {}\n",
    "        \n",
    "        for time, event_type, friend in events:\n",
    "            if event_type == 'arrive':\n",
    "                # Get the smallest available chair\n",
    "                chair = heapq.heappop(available_chairs)\n",
    "                friend_to_chair[friend] = chair\n",
    "                \n",
    "                # If this is the target friend, return the chair\n",
    "                if friend == targetFriend:\n",
    "                    return chair\n",
    "            elif event_type == 'leave':\n",
    "                # When a friend leaves, their chair becomes available\n",
    "                heapq.heappush(available_chairs, friend_to_chair[friend])"
   ]
  }
 ],
 "metadata": {
  "kernelspec": {
   "display_name": "Python 3 (ipykernel)",
   "language": "python",
   "name": "python3"
  },
  "language_info": {
   "codemirror_mode": {
    "name": "ipython",
    "version": 3
   },
   "file_extension": ".py",
   "mimetype": "text/x-python",
   "name": "python",
   "nbconvert_exporter": "python",
   "pygments_lexer": "ipython3",
   "version": "3.9.13"
  }
 },
 "nbformat": 4,
 "nbformat_minor": 5
}
