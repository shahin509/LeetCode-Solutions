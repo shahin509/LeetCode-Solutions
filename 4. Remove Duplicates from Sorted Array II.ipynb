{
 "cells": [
  {
   "cell_type": "code",
   "execution_count": 1,
   "id": "39700919",
   "metadata": {},
   "outputs": [],
   "source": [
    "class Solution(object):\n",
    "    def removeDuplicates(self, nums):\n",
    "        \n",
    "        if len(nums) <= 2:\n",
    "            return len(nums)  # If the array has 2 or fewer elements, no need to process\n",
    "        \n",
    "        k = 2  # Start from the third position\n",
    "\n",
    "        for i in range(2, len(nums)):\n",
    "            if nums[i] != nums[k-2]:\n",
    "                nums[k] = nums[i]\n",
    "                k += 1\n",
    "        \n",
    "        return k"
   ]
  },
  {
   "cell_type": "code",
   "execution_count": null,
   "id": "7be80116",
   "metadata": {},
   "outputs": [],
   "source": []
  }
 ],
 "metadata": {
  "kernelspec": {
   "display_name": "Python 3 (ipykernel)",
   "language": "python",
   "name": "python3"
  },
  "language_info": {
   "codemirror_mode": {
    "name": "ipython",
    "version": 3
   },
   "file_extension": ".py",
   "mimetype": "text/x-python",
   "name": "python",
   "nbconvert_exporter": "python",
   "pygments_lexer": "ipython3",
   "version": "3.9.13"
  }
 },
 "nbformat": 4,
 "nbformat_minor": 5
}
