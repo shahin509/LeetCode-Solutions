{
 "cells": [
  {
   "cell_type": "code",
   "execution_count": 1,
   "id": "530dfb72",
   "metadata": {},
   "outputs": [],
   "source": [
    "class Solution(object):\n",
    "    def combinationSum2(self, candidates, target):\n",
    "        \"\"\"\n",
    "        :type candidates: List[int]\n",
    "        :type target: int\n",
    "        :rtype: List[List[int]]\n",
    "        \"\"\"\n",
    "        \n",
    "        def backtrack(start, target, path):\n",
    "            if target == 0:\n",
    "                result.append(list(path))  # Found a valid combination\n",
    "                return\n",
    "            if target < 0:\n",
    "                return  # Exceeded the target, no need to explore further\n",
    "            \n",
    "            for i in range(start, len(candidates)):\n",
    "                # Skip duplicates\n",
    "                if i > start and candidates[i] == candidates[i-1]:\n",
    "                    continue\n",
    "                \n",
    "                # Include the current number and move to the next\n",
    "                path.append(candidates[i])\n",
    "                backtrack(i + 1, target - candidates[i], path)\n",
    "                path.pop()  # Backtrack, remove the last element\n",
    "        \n",
    "        candidates.sort()  # Sort candidates to handle duplicates\n",
    "        result = []\n",
    "        backtrack(0, target, [])\n",
    "        return result"
   ]
  }
 ],
 "metadata": {
  "kernelspec": {
   "display_name": "Python 3 (ipykernel)",
   "language": "python",
   "name": "python3"
  },
  "language_info": {
   "codemirror_mode": {
    "name": "ipython",
    "version": 3
   },
   "file_extension": ".py",
   "mimetype": "text/x-python",
   "name": "python",
   "nbconvert_exporter": "python",
   "pygments_lexer": "ipython3",
   "version": "3.9.13"
  }
 },
 "nbformat": 4,
 "nbformat_minor": 5
}
